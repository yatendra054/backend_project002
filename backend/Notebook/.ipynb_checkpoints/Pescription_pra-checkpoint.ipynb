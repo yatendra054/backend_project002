{
 "cells": [
  {
   "cell_type": "code",
   "execution_count": 1,
   "id": "356a3513",
   "metadata": {},
   "outputs": [],
   "source": [
    "from pdf2image import convert_from_path"
   ]
  },
  {
   "cell_type": "code",
   "execution_count": 5,
   "id": "f6741c1a",
   "metadata": {},
   "outputs": [],
   "source": [
    "page=convert_from_path(r'D:\\Project_Medical\\backend\\Notebook\\docs\\prescription\\pre_1.pdf',poppler_path=r'D:\\poppler-23.11.0\\Library\\bin')"
   ]
  },
  {
   "cell_type": "code",
   "execution_count": 7,
   "id": "7a8f0cad",
   "metadata": {},
   "outputs": [],
   "source": [
    "page[0].show()"
   ]
  },
  {
   "cell_type": "code",
   "execution_count": 8,
   "id": "3708db40",
   "metadata": {},
   "outputs": [],
   "source": [
    "import pytesseract"
   ]
  },
  {
   "cell_type": "code",
   "execution_count": 13,
   "id": "0663413e",
   "metadata": {},
   "outputs": [],
   "source": [
    "pytesseract.pytesseract.tesseract_cmd=r'C:\\Users\\Yatendra Pachori\\AppData\\Local\\Programs\\Tesseract-OCR\\tesseract.exe'"
   ]
  },
  {
   "cell_type": "code",
   "execution_count": 14,
   "id": "97fd8f30",
   "metadata": {},
   "outputs": [
    {
     "name": "stdout",
     "output_type": "stream",
     "text": [
      "Dr John Smith, M.D\n",
      "2 Non-Important Street,\n",
      "New York, Phone (000)-111-2222\n",
      "\n",
      "Name: Maria Sharapova Date: 5/11/2022\n",
      "\n",
      "Address: 9 tennis court, new Russia, DC\n",
      "\n",
      "—moemenmannenneneneunmnnnnennieesisiyoinnitniahadaaanniihsnseneneneeeernnttnnneenrenen:\n",
      "\n",
      "Prednisone 20 mg\n",
      "Lialda 2.4 gram\n",
      "\n",
      "3 days,\n",
      "\n",
      "or 1 month\n",
      "\n"
     ]
    }
   ],
   "source": [
    "text=pytesseract.image_to_string(page[0],lang='eng')\n",
    "print(text)"
   ]
  },
  {
   "cell_type": "code",
   "execution_count": null,
   "id": "303d217a",
   "metadata": {},
   "outputs": [],
   "source": []
  }
 ],
 "metadata": {
  "kernelspec": {
   "display_name": "Python 3 (ipykernel)",
   "language": "python",
   "name": "python3"
  },
  "language_info": {
   "codemirror_mode": {
    "name": "ipython",
    "version": 3
   },
   "file_extension": ".py",
   "mimetype": "text/x-python",
   "name": "python",
   "nbconvert_exporter": "python",
   "pygments_lexer": "ipython3",
   "version": "3.10.9"
  }
 },
 "nbformat": 4,
 "nbformat_minor": 5
}
